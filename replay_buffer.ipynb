{
 "cells": [
  {
   "cell_type": "code",
   "execution_count": 1,
   "metadata": {},
   "outputs": [],
   "source": [
    "import numpy as np  \n",
    "\n",
    "class replay_buffer:\n",
    "    def __init__(self,max_size,inp_shape,n_actions):\n",
    "        self.size_mem=max_size          #size of memory buffer\n",
    "        self.count_mem=0\n",
    "        self.state_mem=np.zeros((self.size_mem, *inp_shape))  #unpacking\n",
    "        self.new_state_mem = np.zeros((self.size_mem, *inp_shape))\n",
    "        self.action_mem = np.zeros((self.size_mem, n_actions))\n",
    "        self.terminal_mem = np.zeros(self.size_mem,dtype=np.bool)  #to track the done flags \n",
    "        self.reward_mem = np.zeros(self.size_mem)\n",
    "\n",
    "    def transition_store(self,state,action,reward,nw_state,done):\n",
    "        idx = self.count_mem % self.size_mem\n",
    "        self.state_mem[idx] = state\n",
    "        self.new_state_mem[idx] = nw_state\n",
    "        self.reward_mem[idx] = reward\n",
    "        self.action_mem[idx] = action\n",
    "        self.terminal_mem[idx] = done\n",
    "\n",
    "        self.count_mem+=1\n",
    "\n",
    "    def sample_buffer(self,batch_size):\n",
    "        max_mem= min(self.count_mem,self.size_mem)\n",
    "        batch = np.random.choice(max_mem,batch_size)   #from 0 to max_mem of batch_size\n",
    "\n",
    "        states = self.state_mem[batch]\n",
    "        nw_states = self.new_state_mem[batch]\n",
    "        rewards = self.reward_mem[batch]\n",
    "        dones = self.terminal_mem[batch]\n",
    "        actions = self.action_mem[batch]\n",
    "\n",
    "        return states,actions,rewards,nw_states,dones\n"
   ]
  },
  {
   "cell_type": "code",
   "execution_count": null,
   "metadata": {},
   "outputs": [],
   "source": []
  }
 ],
 "metadata": {
  "kernelspec": {
   "display_name": "Python 3",
   "language": "python",
   "name": "python3"
  },
  "language_info": {
   "codemirror_mode": {
    "name": "ipython",
    "version": 3
   },
   "file_extension": ".py",
   "mimetype": "text/x-python",
   "name": "python",
   "nbconvert_exporter": "python",
   "pygments_lexer": "ipython3",
   "version": "3.6.12"
  }
 },
 "nbformat": 4,
 "nbformat_minor": 4
}
