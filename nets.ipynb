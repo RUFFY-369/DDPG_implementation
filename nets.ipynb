{
 "cells": [
  {
   "cell_type": "code",
   "execution_count": 1,
   "metadata": {},
   "outputs": [],
   "source": [
    "import os\n",
    "import tensorflow as tf\n",
    "import tensorflow.keras as keras\n",
    "from tensorflow.keras.layers import Dense"
   ]
  },
  {
   "cell_type": "code",
   "execution_count": 2,
   "metadata": {},
   "outputs": [],
   "source": [
    "class critic(keras.Model):\n",
    "    def __init__(self, n_actions,fcl1_dims=512,fcl2_dims=512,name=\"Critic\",checkpoint_dir=\"temp/ddpg\"):\n",
    "        super(critic,self).__init__()\n",
    "        self.fcl1_dims = fcl1_dims    #dimensions saved as member variables for cleaner code(not really required)\n",
    "        self.fcl2_dims = fcl2_dims\n",
    "        self.n_actions = n_actions\n",
    "        self.model_name = name\n",
    "        self.checkpoint_dir = checkpoint_dir\n",
    "        self.checkpoint_file = os.path.join(self.checkpoint_dir,self.model_name+'_Ddpg.h5')\n",
    "\n",
    "        #BatchNormalization\n",
    "\n",
    "        self.fcl1= Dense(self.fcl1_dims,activation='relu')\n",
    "\n",
    "        self.fcl1_norm =tf.keras.layers.BatchNormalization()\n",
    "\n",
    "        self.fcl2 = Dense(self.fcl2_dims,activation='relu')\n",
    "\n",
    "        self.fcl2_norm=tf.keras.layers.BatchNormalization()\n",
    "\n",
    "        self.q =Dense(1,activation=None)\n",
    "\n",
    "    def call(self,state,action):    #When subclassing the `Model` class, you should implement a `call` method.\n",
    "        act_val = self.fcl1(tf.concat([state,action],axis=1))      #critic net deals with state-action pair so concatnated\n",
    "        act_val = self.fcl1_norm(act_val)\n",
    "        act_val = self.fcl2(act_val)\n",
    "        act_val =self.fcl2(act_val)\n",
    "        q= self.q(act_val)\n",
    "\n",
    "        return q\n",
    "\n"
   ]
  },
  {
   "cell_type": "code",
   "execution_count": 3,
   "metadata": {},
   "outputs": [],
   "source": [
    "class actor(keras.Model):\n",
    "    def __init__(self,fcl1_dims=512, fcl2_dims = 512,n_actions=2,name=\"Actor\",checkpoint_dir=\"temp/ddpg\"):\n",
    "        super(actor,self).__init__()\n",
    "        self.fcl1_dims = fcl1_dims    #dimensions saved as member variables for cleaner code(not really required)\n",
    "        self.fcl2_dims = fcl2_dims\n",
    "        self.n_actions = n_actions\n",
    "        self.model_name = name\n",
    "        self.checkpoint_dir = checkpoint_dir\n",
    "        self.checkpoint_file = os.path.join(self.checkpoint_dir,self.model_name+'_Ddpg.h5')\n",
    "\n",
    "        self.fcl1 = Dense(self.fcl1_dims,activation='relu')\n",
    "        \n",
    "        #BatchNormalization\n",
    "        self.fcl1_norm =tf.keras.layers.BatchNormalization()\n",
    "\n",
    "        self.fcl2 = Dense(self.fcl2_dims,activation='relu')\n",
    "\n",
    "        self.fcl2_norm=tf.keras.layers.BatchNormalization()\n",
    "\n",
    "        self.mu =Dense(self.n_actions,activation='tanh')\n",
    "\n",
    "    def call(self,state):       #When subclassing the `Model` class, you should implement a `call` method.\n",
    "        prb= self.fcl1(state)\n",
    "        prb=self.fcl1_norm(prb)\n",
    "        prb = self.fcl2(prb)\n",
    "        prb=self.fcl2_norm(prb)\n",
    "        mu = self.mu(prb)       #mu(nomenclature as mentioned in the paper)\n",
    "\n",
    "        return mu\n"
   ]
  },
  {
   "cell_type": "code",
   "execution_count": null,
   "metadata": {},
   "outputs": [],
   "source": []
  }
 ],
 "metadata": {
  "kernelspec": {
   "display_name": "Python 3",
   "language": "python",
   "name": "python3"
  },
  "language_info": {
   "codemirror_mode": {
    "name": "ipython",
    "version": 3
   },
   "file_extension": ".py",
   "mimetype": "text/x-python",
   "name": "python",
   "nbconvert_exporter": "python",
   "pygments_lexer": "ipython3",
   "version": "3.6.12"
  }
 },
 "nbformat": 4,
 "nbformat_minor": 4
}
